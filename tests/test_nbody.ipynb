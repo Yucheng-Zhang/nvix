{
 "cells": [
  {
   "cell_type": "code",
   "execution_count": 1,
   "id": "4ffb6d01-b1e9-49ca-bc4e-20b1e9edec1e",
   "metadata": {},
   "outputs": [],
   "source": [
    "%load_ext autoreload\n",
    "%autoreload 2"
   ]
  },
  {
   "cell_type": "code",
   "execution_count": 3,
   "id": "3ef1fa88-15e8-4ab4-9c7f-20a5a084b27f",
   "metadata": {},
   "outputs": [],
   "source": [
    "import numpy as np\n",
    "import jax.numpy as jnp\n",
    "from tqdm.notebook import tqdm\n",
    "\n",
    "import imageio\n",
    "import cv2\n",
    "\n",
    "import jax\n",
    "import matplotlib.pyplot as plt\n",
    "from matplotlib.colors import TABLEAU_COLORS\n",
    "\n",
    "from pmwd import (\n",
    "    Configuration,\n",
    "    Cosmology, SimpleLCDM,\n",
    "    boltzmann,\n",
    "    white_noise, linear_modes,\n",
    "    lpt,\n",
    "    nbody,\n",
    "    scatter,\n",
    ")\n",
    "from pmwd.particles import ptcl_pos\n",
    "from pmwd.vis_util import plt_2d, CosmicWebNorm\n",
    "\n",
    "import nvix.camera as nvixc\n",
    "import nvix.utils as nvixu\n",
    "\n",
    "from gaepsi2.painter import paint"
   ]
  },
  {
   "cell_type": "code",
   "execution_count": 5,
   "id": "256df68e-0f56-4553-acab-da95ca3140dd",
   "metadata": {},
   "outputs": [],
   "source": [
    "ptcl_spacing = 4.\n",
    "ptcl_grid_shape = (128,) * 3\n",
    "\n",
    "conf = Configuration(ptcl_spacing, ptcl_grid_shape, mesh_shape=2)  # 2x mesh shape"
   ]
  },
  {
   "cell_type": "code",
   "execution_count": 6,
   "id": "5bce0605-d288-4533-a499-35195c8c0a19",
   "metadata": {},
   "outputs": [
    {
     "name": "stdout",
     "output_type": "stream",
     "text": [
      "Simulating 2097152 particles with a (256, 256, 256) mesh for 63 time steps.\n"
     ]
    }
   ],
   "source": [
    "cosmo = SimpleLCDM(conf)\n",
    "seed = 0\n",
    "modes = white_noise(seed, conf)\n",
    "\n",
    "def model(modes, cosmo, conf):\n",
    "    cosmo = boltzmann(cosmo, conf)\n",
    "    modes = linear_modes(modes, cosmo, conf)\n",
    "    ptcl, obsvbl = lpt(modes, cosmo, conf)\n",
    "    ptcl, obsvbl = nbody(ptcl, obsvbl, cosmo, conf)\n",
    "    return ptcl, obsvbl\n",
    "\n",
    "print(f'Simulating {conf.ptcl_num} particles with a {conf.mesh_shape} mesh for {conf.a_nbody_num} time steps.')\n",
    "ptcl = model(modes, cosmo, conf)[0]"
   ]
  },
  {
   "cell_type": "code",
   "execution_count": 5,
   "id": "a8e9b498-7ea0-4b17-a77a-c3ff7757fe7b",
   "metadata": {},
   "outputs": [],
   "source": [
    "# dens = scatter(ptcl, conf)\n",
    "# fig, _ = plt_2d(dens[:16].mean(axis=0), norm='CosmicWebNorm')\n",
    "# plt.close(fig)"
   ]
  },
  {
   "cell_type": "code",
   "execution_count": 7,
   "id": "4b2630af-ddbf-4b16-8e2b-fcb775bf9fbc",
   "metadata": {},
   "outputs": [
    {
     "name": "stdout",
     "output_type": "stream",
     "text": [
      "(3, 2097152)\n",
      "0.00  -  512.00\n",
      "0.00  -  512.00\n",
      "0.00  -  512.00\n"
     ]
    }
   ],
   "source": [
    "points = ptcl_pos(ptcl, conf).T\n",
    "print(points.shape)\n",
    "\n",
    "for i in range(3):\n",
    "    print(f'{points[i, :].min():.2f}  -  {points[i, :].max():.2f}')"
   ]
  },
  {
   "cell_type": "code",
   "execution_count": 8,
   "id": "10b614e5-64c7-4a20-ba3a-93ba2cb71e74",
   "metadata": {},
   "outputs": [],
   "source": [
    "# range of the cubic box, assumed to be the same for x, y, z\n",
    "lim = np.array([0, 512])\n",
    "box_size = lim[1] - lim[0]\n",
    "\n",
    "# the model matrix to shift the box to the origin of the world space\n",
    "M_model = np.eye(4)\n",
    "M_model[:3, 3] = np.full(3, -lim.mean())\n",
    "\n",
    "# the camera is at postive z and facing the origin of the world space\n",
    "eye = np.array([0, 0, box_size*5])\n",
    "target = np.array([0, 0, 0])\n",
    "\n",
    "# field of view angle\n",
    "fovy = np.arctan2(box_size/2, eye[-1]) * 1.8 * 2\n",
    "\n",
    "# distance of camera to near and far planes in world space\n",
    "# set as the closer and further z planes of the cube\n",
    "near = eye[-1] - box_size\n",
    "far = eye[-1] + box_size * 2\n",
    "\n",
    "# window size\n",
    "window = (128, 128)"
   ]
  },
  {
   "cell_type": "code",
   "execution_count": 9,
   "id": "9cd52b50-6cda-4b61-a94f-957a99088e18",
   "metadata": {},
   "outputs": [],
   "source": [
    "X = nvixc.shutter(points, eye, target, fovy, near, far, M_model=M_model, window=window)"
   ]
  },
  {
   "cell_type": "code",
   "execution_count": 10,
   "id": "996da6e8-6b3e-4f46-88be-01d28f7e2961",
   "metadata": {},
   "outputs": [
    {
     "data": {
      "text/plain": [
       "(3, 2097152)"
      ]
     },
     "execution_count": 10,
     "metadata": {},
     "output_type": "execute_result"
    }
   ],
   "source": [
    "X.shape"
   ]
  },
  {
   "cell_type": "code",
   "execution_count": 11,
   "id": "764a9c13-e25a-4848-abdb-40f8825a8733",
   "metadata": {},
   "outputs": [
    {
     "name": "stdout",
     "output_type": "stream",
     "text": [
      "24.82  -  103.19\n",
      "24.81  -  103.20\n",
      "-0.48  -  0.27\n"
     ]
    }
   ],
   "source": [
    "for i in range(3):\n",
    "    print(f'{X[i, :].min():.2f}  -  {X[i, :].max():.2f}')"
   ]
  },
  {
   "cell_type": "code",
   "execution_count": 12,
   "id": "2c89d13f-45b1-469f-86b4-c0ec87c9d08c",
   "metadata": {},
   "outputs": [
    {
     "data": {
      "text/plain": [
       "(128, 128)"
      ]
     },
     "execution_count": 12,
     "metadata": {},
     "output_type": "execute_result"
    }
   ],
   "source": [
    "X_p = paint(np.array(X.T), np.full(X.shape[1], 1.), np.ones(X.shape[1]), window)[0].T\n",
    "X_p.shape"
   ]
  },
  {
   "cell_type": "code",
   "execution_count": 13,
   "id": "75577b25-8a79-419d-bf59-b0c85397b289",
   "metadata": {},
   "outputs": [],
   "source": [
    "# X_p = nvixc.paint(X, [[-1, 1], [-1, 1]], pixels=(256, 256))"
   ]
  },
  {
   "cell_type": "code",
   "execution_count": 14,
   "id": "a48a44ce-ae5a-4cb6-878c-dd231fef899f",
   "metadata": {},
   "outputs": [
    {
     "data": {
      "text/plain": [
       "<matplotlib.image.AxesImage at 0x7f906b7d19d0>"
      ]
     },
     "execution_count": 14,
     "metadata": {},
     "output_type": "execute_result"
    },
    {
     "data": {
      "image/jpeg": "[encoded data removed]",
      "text/plain": [
       "<Figure size 720x720 with 1 Axes>"
      ]
     },
     "metadata": {
      "needs_background": "light"
     },
     "output_type": "display_data"
    }
   ],
   "source": [
    "fig, ax = plt.subplots(1, 1, figsize=(10, 10))\n",
    "ax.set_xlim(0, window[0]); ax.set_ylim(0, window[1])\n",
    "\n",
    "# draw the box\n",
    "xs, ys, zs = np.meshgrid(lim, lim, lim)\n",
    "vs = np.vstack([_.ravel() for _ in (xs, ys, zs)])\n",
    "vs = nvixc.shutter(vs, eye, target, fovy, near, far, M_model=M_model, window=window)\n",
    "nvixu.draw_box(vs, ax)\n",
    "# ax.scatter(vs[0], vs[1], color=list(TABLEAU_COLORS.keys())[:8])\n",
    "\n",
    "# show particles\n",
    "ax.imshow(X_p, extent=(0, 128, 0, 128), cmap='inferno', vmin=0, vmax=1000,\n",
    "          interpolation='lanczos', interpolation_stage='rgba')\n",
    "# ax.imshow(X_p, extent=(0, 128, 0, 128), cmap='inferno', norm=CosmicWebNorm(X_p),\n",
    "#           interpolation='lanczos', interpolation_stage='rgba')"
   ]
  },
  {
   "cell_type": "code",
   "execution_count": 26,
   "id": "ad8bddca-ee21-4812-85cd-b66af6861f9c",
   "metadata": {},
   "outputs": [
    {
     "data": {
      "application/vnd.jupyter.widget-view+json": {
       "model_id": "74097e517c8841218380034fc4372b5c",
       "version_major": 2,
       "version_minor": 0
      },
      "text/plain": [
       "  0%|          | 0/200 [00:00<?, ?it/s]"
      ]
     },
     "metadata": {},
     "output_type": "display_data"
    }
   ],
   "source": [
    "# rotate the camera around y axis in world space\n",
    "for i, step in enumerate(tqdm(np.linspace(0, 1, 200))):\n",
    "    rot = nvixu.rotation('y', step * 2 * np.pi)\n",
    "    eye_n = rot @ eye\n",
    "\n",
    "    fig, ax = plt.subplots(1, 1, figsize=(10, 10))\n",
    "    ax.set_xlim(0, window[0]); ax.set_ylim(0, window[1])\n",
    "\n",
    "    # draw the box\n",
    "    xs, ys, zs = np.meshgrid(lim, lim, lim)\n",
    "    vs = np.vstack([_.ravel() for _ in (xs, ys, zs)])\n",
    "    vs = nvixc.shutter(vs, eye_n, target, fovy, near, far, M_model=M_model, window=window)\n",
    "    nvixu.draw_box(vs, ax)\n",
    "\n",
    "    # show particles\n",
    "    X = nvixc.shutter(points, eye_n, target, fovy, near, far, M_model=M_model, window=window)\n",
    "    X_p = paint(np.array(X.T), np.full(X.shape[1], 3.), np.ones(X.shape[1]), window)[0].T\n",
    "    ax.imshow(X_p, extent=(0, 128, 0, 128), cmap='inferno', vmin=0, vmax=1000,\n",
    "              interpolation='lanczos', interpolation_stage='rgba')\n",
    "    # ax.imshow(X_p, extent=(0, window[0], 0, window[1]), cmap='inferno', norm=CosmicWebNorm(X_p),\n",
    "    #           interpolation='lanczos', interpolation_stage='rgba')\n",
    "    fig.savefig(f'tmp/{i}.png', dpi=100, bbox_inches='tight')\n",
    "    plt.close()"
   ]
  },
  {
   "cell_type": "code",
   "execution_count": 21,
   "id": "eb34416e-9276-4598-8291-b3fc871b0496",
   "metadata": {},
   "outputs": [
    {
     "data": {
      "application/vnd.jupyter.widget-view+json": {
       "model_id": "34df77784ad147d68bda397e81e0f88f",
       "version_major": 2,
       "version_minor": 0
      },
      "text/plain": [
       "  0%|          | 0/200 [00:00<?, ?it/s]"
      ]
     },
     "metadata": {},
     "output_type": "display_data"
    },
    {
     "name": "stderr",
     "output_type": "stream",
     "text": [
      "WARNING:imageio_ffmpeg:IMAGEIO FFMPEG_WRITER WARNING: input image is not divisible by macro_block_size=16, resizing from (811, 798) to (816, 800) to ensure video compatibility with most codecs and players. To prevent resizing, make your input image divisible by the macro_block_size or set the macro_block_size to 1 (risking incompatibility).\n",
      "[swscaler @ 0x7fdfe8048000] Warning: data is not aligned! This can lead to a speed loss\n"
     ]
    }
   ],
   "source": [
    "writer = imageio.get_writer('test_nbody.mp4', fps=30)\n",
    "for i in tqdm(range(200)):\n",
    "    writer.append_data(imageio.imread(f'tmp/{i}.png'))\n",
    "writer.close()"
   ]
  },
  {
   "cell_type": "code",
   "execution_count": 25,
   "id": "24fb76d3-b801-4a5f-9bf4-d571ae34f688",
   "metadata": {},
   "outputs": [
    {
     "data": {
      "text/plain": [
       "Array([[[255, 255, 255,   0],\n",
       "        [255, 255, 255,   0],\n",
       "        ...,\n",
       "        [255, 255, 255,   0],\n",
       "        [255, 255, 255,   0]],\n",
       "\n",
       "       [[255, 255, 255,   0],\n",
       "        [255, 255, 255,   0],\n",
       "        ...,\n",
       "        [255, 255, 255,   0],\n",
       "        [255, 255, 255,   0]],\n",
       "\n",
       "       ...,\n",
       "\n",
       "       [[255, 255, 255,   0],\n",
       "        [255, 255, 255,   0],\n",
       "        ...,\n",
       "        [255, 255, 255,   0],\n",
       "        [255, 255, 255,   0]],\n",
       "\n",
       "       [[255, 255, 255,   0],\n",
       "        [255, 255, 255,   0],\n",
       "        ...,\n",
       "        [255, 255, 255,   0],\n",
       "        [255, 255, 255,   0]]], dtype=uint8)"
      ]
     },
     "execution_count": 25,
     "metadata": {},
     "output_type": "execute_result"
    }
   ],
   "source": [
    "imageio.imread(f'tmp/1.png')"
   ]
  },
  {
   "cell_type": "code",
   "execution_count": null,
   "id": "9bf7441f-72c3-49d7-86f7-936e98749674",
   "metadata": {},
   "outputs": [],
   "source": []
  },
  {
   "cell_type": "code",
   "execution_count": null,
   "id": "44025916-9ccd-436c-bda5-d6db590f5138",
   "metadata": {},
   "outputs": [
    {
     "data": {
      "application/vnd.jupyter.widget-view+json": {
       "model_id": "43bd246941964f93a1e6b7b3941ea184",
       "version_major": 2,
       "version_minor": 0
      },
      "text/plain": [
       "  0%|          | 0/200 [00:00<?, ?it/s]"
      ]
     },
     "metadata": {},
     "output_type": "display_data"
    },
    {
     "name": "stderr",
     "output_type": "stream",
     "text": [
      "OpenCV: FFMPEG: tag 0x3436324d/'M264' is not found (format 'mp4 / MP4 (MPEG-4 Part 14)')'\n"
     ]
    }
   ],
   "source": [
    "images = []\n",
    "for i in tqdm(range(200)):\n",
    "    image = cv2.imread(f'tmp/{i}.png')\n",
    "    images.append(image)\n",
    "\n",
    "fps = 30\n",
    "video = cv2.VideoWriter('test_rotate.mp4', cv2.VideoWriter_fourcc('M', '2', '6', '4'), fps, images[0].shape[:2])\n",
    "for image in images:\n",
    "    video.write(image)\n",
    "\n",
    "cv2.destroyAllWindows()\n",
    "video.release()"
   ]
  },
  {
   "cell_type": "code",
   "execution_count": null,
   "id": "d54b822b-29b1-4678-a5f3-766c3e719d57",
   "metadata": {},
   "outputs": [],
   "source": []
  },
  {
   "cell_type": "code",
   "execution_count": null,
   "id": "909bac6c-5990-4b80-99a3-f728d1104c95",
   "metadata": {},
   "outputs": [],
   "source": []
  },
  {
   "cell_type": "code",
   "execution_count": null,
   "id": "4e205dbd-10de-4e8c-8c81-1fdcfc9afe29",
   "metadata": {},
   "outputs": [],
   "source": []
  },
  {
   "cell_type": "code",
   "execution_count": null,
   "id": "5ffb1a14-40d3-476d-b685-80bb4e1a6364",
   "metadata": {},
   "outputs": [],
   "source": []
  },
  {
   "cell_type": "code",
   "execution_count": null,
   "id": "9c521b76-5916-4957-9249-eb2cfc331ed6",
   "metadata": {},
   "outputs": [],
   "source": []
  },
  {
   "cell_type": "code",
   "execution_count": 96,
   "id": "76d0b606-45d2-4b15-98c9-ff3abbb77323",
   "metadata": {},
   "outputs": [
    {
     "data": {
      "application/vnd.jupyter.widget-view+json": {
       "model_id": "2b3cab3b2a294346a710b6e0d51545fb",
       "version_major": 2,
       "version_minor": 0
      },
      "text/plain": [
       "  0%|          | 0/100 [00:00<?, ?it/s]"
      ]
     },
     "metadata": {},
     "output_type": "display_data"
    },
    {
     "name": "stderr",
     "output_type": "stream",
     "text": [
      "/Users/yucheng/opt/anaconda3/lib/python3.9/site-packages/numpy/lib/histograms.py:1124: RuntimeWarning: invalid value encountered in true_divide\n",
      "  hist /= s\n"
     ]
    },
    {
     "ename": "ValueError",
     "evalue": "array must not contain infs or NaNs",
     "output_type": "error",
     "traceback": [
      "\u001b[0;31m---------------------------------------------------------------------------\u001b[0m",
      "\u001b[0;31mValueError\u001b[0m                                Traceback (most recent call last)",
      "Input \u001b[0;32mIn [96]\u001b[0m, in \u001b[0;36m<cell line: 2>\u001b[0;34m()\u001b[0m\n\u001b[1;32m     16\u001b[0m X \u001b[38;5;241m=\u001b[39m nvixc\u001b[38;5;241m.\u001b[39mshutter(points, eye_n, target_n, fovy, near, far, M_model\u001b[38;5;241m=\u001b[39mM_model)\n\u001b[1;32m     17\u001b[0m X_p \u001b[38;5;241m=\u001b[39m nvixc\u001b[38;5;241m.\u001b[39mpaint(X, [[\u001b[38;5;241m-\u001b[39m\u001b[38;5;241m1\u001b[39m, \u001b[38;5;241m1\u001b[39m], [\u001b[38;5;241m-\u001b[39m\u001b[38;5;241m1\u001b[39m, \u001b[38;5;241m1\u001b[39m]], pixels\u001b[38;5;241m=\u001b[39m(\u001b[38;5;241m256\u001b[39m, \u001b[38;5;241m256\u001b[39m))\n\u001b[0;32m---> 18\u001b[0m ax\u001b[38;5;241m.\u001b[39mimshow(X_p, extent\u001b[38;5;241m=\u001b[39m(\u001b[38;5;241m-\u001b[39m\u001b[38;5;241m1\u001b[39m, \u001b[38;5;241m1\u001b[39m, \u001b[38;5;241m-\u001b[39m\u001b[38;5;241m1\u001b[39m, \u001b[38;5;241m1\u001b[39m), cmap\u001b[38;5;241m=\u001b[39m\u001b[38;5;124m'\u001b[39m\u001b[38;5;124minferno\u001b[39m\u001b[38;5;124m'\u001b[39m, norm\u001b[38;5;241m=\u001b[39m\u001b[43mCosmicWebNorm\u001b[49m\u001b[43m(\u001b[49m\u001b[43mX_p\u001b[49m\u001b[43m)\u001b[49m,\n\u001b[1;32m     19\u001b[0m           interpolation\u001b[38;5;241m=\u001b[39m\u001b[38;5;124m'\u001b[39m\u001b[38;5;124mlanczos\u001b[39m\u001b[38;5;124m'\u001b[39m, interpolation_stage\u001b[38;5;241m=\u001b[39m\u001b[38;5;124m'\u001b[39m\u001b[38;5;124mrgba\u001b[39m\u001b[38;5;124m'\u001b[39m)\n\u001b[1;32m     20\u001b[0m fig\u001b[38;5;241m.\u001b[39msavefig(\u001b[38;5;124mf\u001b[39m\u001b[38;5;124m'\u001b[39m\u001b[38;5;124mtmp/\u001b[39m\u001b[38;5;132;01m{\u001b[39;00mi\u001b[38;5;132;01m}\u001b[39;00m\u001b[38;5;124m.png\u001b[39m\u001b[38;5;124m'\u001b[39m)\n\u001b[1;32m     21\u001b[0m plt\u001b[38;5;241m.\u001b[39mclose()\n",
      "File \u001b[0;32m~/pymods/pmwd/vis_util.py:124\u001b[0m, in \u001b[0;36mCosmicWebNorm.__init__\u001b[0;34m(self, x, q, gamma, fit_min, fit_num, clip)\u001b[0m\n\u001b[1;32m    120\u001b[0m \u001b[38;5;28mself\u001b[39m\u001b[38;5;241m.\u001b[39mgamma \u001b[38;5;241m=\u001b[39m gamma\n\u001b[1;32m    122\u001b[0m \u001b[38;5;28mself\u001b[39m\u001b[38;5;241m.\u001b[39mbins, \u001b[38;5;28mself\u001b[39m\u001b[38;5;241m.\u001b[39mhist \u001b[38;5;241m=\u001b[39m \u001b[38;5;28mself\u001b[39m\u001b[38;5;241m.\u001b[39mcumhist(x, fit_num)\n\u001b[0;32m--> 124\u001b[0m \u001b[38;5;28mself\u001b[39m\u001b[38;5;241m.\u001b[39ma, \u001b[38;5;28mself\u001b[39m\u001b[38;5;241m.\u001b[39mb, \u001b[38;5;28mself\u001b[39m\u001b[38;5;241m.\u001b[39malpha, \u001b[38;5;28mself\u001b[39m\u001b[38;5;241m.\u001b[39mbeta \u001b[38;5;241m=\u001b[39m \u001b[38;5;28;43mself\u001b[39;49m\u001b[38;5;241;43m.\u001b[39;49m\u001b[43mfit\u001b[49m\u001b[43m(\u001b[49m\u001b[43m)\u001b[49m\n\u001b[1;32m    126\u001b[0m \u001b[38;5;28mself\u001b[39m\u001b[38;5;241m.\u001b[39mtheta \u001b[38;5;241m=\u001b[39m np\u001b[38;5;241m.\u001b[39mlog(q) \u001b[38;5;241m/\u001b[39m np\u001b[38;5;241m.\u001b[39mlog(\u001b[38;5;241m1\u001b[39m \u001b[38;5;241m-\u001b[39m \u001b[38;5;28mself\u001b[39m\u001b[38;5;241m.\u001b[39mccdf(\u001b[38;5;28mself\u001b[39m\u001b[38;5;241m.\u001b[39mb) \u001b[38;5;241m*\u001b[39m\u001b[38;5;241m*\u001b[39m gamma)\n\u001b[1;32m    128\u001b[0m \u001b[38;5;28msuper\u001b[39m()\u001b[38;5;241m.\u001b[39m\u001b[38;5;21m__init__\u001b[39m((\u001b[38;5;28mself\u001b[39m\u001b[38;5;241m.\u001b[39mforward_, \u001b[38;5;28mself\u001b[39m\u001b[38;5;241m.\u001b[39minverse_), clip\u001b[38;5;241m=\u001b[39mclip)\n",
      "File \u001b[0;32m~/pymods/pmwd/vis_util.py:200\u001b[0m, in \u001b[0;36mCosmicWebNorm.fit\u001b[0;34m(self)\u001b[0m\n\u001b[1;32m    197\u001b[0m \u001b[38;5;28;01mdef\u001b[39;00m \u001b[38;5;21mlnccdf\u001b[39m(x, \u001b[38;5;241m*\u001b[39mp):\n\u001b[1;32m    198\u001b[0m     \u001b[38;5;28;01mreturn\u001b[39;00m np\u001b[38;5;241m.\u001b[39mlog(\u001b[38;5;28mself\u001b[39m\u001b[38;5;241m.\u001b[39mccdf(x, \u001b[38;5;241m*\u001b[39mp))\n\u001b[0;32m--> 200\u001b[0m popt, pcov \u001b[38;5;241m=\u001b[39m \u001b[43mcurve_fit\u001b[49m\u001b[43m(\u001b[49m\n\u001b[1;32m    201\u001b[0m \u001b[43m    \u001b[49m\u001b[43mlnccdf\u001b[49m\u001b[43m,\u001b[49m\n\u001b[1;32m    202\u001b[0m \u001b[43m    \u001b[49m\u001b[38;5;28;43mself\u001b[39;49m\u001b[38;5;241;43m.\u001b[39;49m\u001b[43mbins\u001b[49m\u001b[43m,\u001b[49m\n\u001b[1;32m    203\u001b[0m \u001b[43m    \u001b[49m\u001b[43mnp\u001b[49m\u001b[38;5;241;43m.\u001b[39;49m\u001b[43mlog\u001b[49m\u001b[43m(\u001b[49m\u001b[38;5;28;43mself\u001b[39;49m\u001b[38;5;241;43m.\u001b[39;49m\u001b[43mhist\u001b[49m\u001b[43m)\u001b[49m\u001b[43m,\u001b[49m\n\u001b[1;32m    204\u001b[0m \u001b[43m    \u001b[49m\u001b[43mp0\u001b[49m\u001b[38;5;241;43m=\u001b[39;49m\u001b[43m[\u001b[49m\u001b[38;5;28;43mself\u001b[39;49m\u001b[38;5;241;43m.\u001b[39;49m\u001b[43mmax\u001b[49m\u001b[43m,\u001b[49m\u001b[43m \u001b[49m\u001b[38;5;28;43mself\u001b[39;49m\u001b[38;5;241;43m.\u001b[39;49m\u001b[43mfit_min\u001b[49m\u001b[43m,\u001b[49m\u001b[43m \u001b[49m\u001b[38;5;241;43m1\u001b[39;49m\u001b[43m,\u001b[49m\u001b[43m \u001b[49m\u001b[38;5;241;43m1\u001b[39;49m\u001b[43m]\u001b[49m\u001b[43m,\u001b[49m\n\u001b[1;32m    205\u001b[0m \u001b[43m    \u001b[49m\u001b[43mbounds\u001b[49m\u001b[38;5;241;43m=\u001b[39;49m\u001b[43m(\u001b[49m\u001b[38;5;241;43m2\u001b[39;49m\u001b[43m \u001b[49m\u001b[38;5;241;43m*\u001b[39;49m\u001b[43m \u001b[49m\u001b[43m[\u001b[49m\u001b[38;5;28;43mself\u001b[39;49m\u001b[38;5;241;43m.\u001b[39;49m\u001b[43mfit_min\u001b[49m\u001b[43m]\u001b[49m\u001b[43m \u001b[49m\u001b[38;5;241;43m+\u001b[39;49m\u001b[43m \u001b[49m\u001b[38;5;241;43m2\u001b[39;49m\u001b[43m \u001b[49m\u001b[38;5;241;43m*\u001b[39;49m\u001b[43m \u001b[49m\u001b[43m[\u001b[49m\u001b[38;5;241;43m0\u001b[39;49m\u001b[43m]\u001b[49m\u001b[43m,\u001b[49m\u001b[43m \u001b[49m\u001b[38;5;241;43m2\u001b[39;49m\u001b[43m \u001b[49m\u001b[38;5;241;43m*\u001b[39;49m\u001b[43m \u001b[49m\u001b[43m[\u001b[49m\u001b[38;5;28;43mself\u001b[39;49m\u001b[38;5;241;43m.\u001b[39;49m\u001b[43mmax\u001b[49m\u001b[43m]\u001b[49m\u001b[43m \u001b[49m\u001b[38;5;241;43m+\u001b[39;49m\u001b[43m \u001b[49m\u001b[38;5;241;43m2\u001b[39;49m\u001b[43m \u001b[49m\u001b[38;5;241;43m*\u001b[39;49m\u001b[43m \u001b[49m\u001b[43m[\u001b[49m\u001b[43mnp\u001b[49m\u001b[38;5;241;43m.\u001b[39;49m\u001b[43minf\u001b[49m\u001b[43m]\u001b[49m\u001b[43m)\u001b[49m\u001b[43m,\u001b[49m\n\u001b[1;32m    206\u001b[0m \u001b[43m\u001b[49m\u001b[43m)\u001b[49m\n\u001b[1;32m    208\u001b[0m \u001b[38;5;28;01mreturn\u001b[39;00m popt\n",
      "File \u001b[0;32m~/opt/anaconda3/lib/python3.9/site-packages/scipy/optimize/minpack.py:743\u001b[0m, in \u001b[0;36mcurve_fit\u001b[0;34m(f, xdata, ydata, p0, sigma, absolute_sigma, check_finite, bounds, method, jac, **kwargs)\u001b[0m\n\u001b[1;32m    739\u001b[0m \u001b[38;5;28;01mif\u001b[39;00m \u001b[38;5;28misinstance\u001b[39m(xdata, (\u001b[38;5;28mlist\u001b[39m, \u001b[38;5;28mtuple\u001b[39m, np\u001b[38;5;241m.\u001b[39mndarray)):\n\u001b[1;32m    740\u001b[0m     \u001b[38;5;66;03m# `xdata` is passed straight to the user-defined `f`, so allow\u001b[39;00m\n\u001b[1;32m    741\u001b[0m     \u001b[38;5;66;03m# non-array_like `xdata`.\u001b[39;00m\n\u001b[1;32m    742\u001b[0m     \u001b[38;5;28;01mif\u001b[39;00m check_finite:\n\u001b[0;32m--> 743\u001b[0m         xdata \u001b[38;5;241m=\u001b[39m \u001b[43mnp\u001b[49m\u001b[38;5;241;43m.\u001b[39;49m\u001b[43masarray_chkfinite\u001b[49m\u001b[43m(\u001b[49m\u001b[43mxdata\u001b[49m\u001b[43m,\u001b[49m\u001b[43m \u001b[49m\u001b[38;5;28;43mfloat\u001b[39;49m\u001b[43m)\u001b[49m\n\u001b[1;32m    744\u001b[0m     \u001b[38;5;28;01melse\u001b[39;00m:\n\u001b[1;32m    745\u001b[0m         xdata \u001b[38;5;241m=\u001b[39m np\u001b[38;5;241m.\u001b[39masarray(xdata, \u001b[38;5;28mfloat\u001b[39m)\n",
      "File \u001b[0;32m~/opt/anaconda3/lib/python3.9/site-packages/numpy/lib/function_base.py:488\u001b[0m, in \u001b[0;36masarray_chkfinite\u001b[0;34m(a, dtype, order)\u001b[0m\n\u001b[1;32m    486\u001b[0m a \u001b[38;5;241m=\u001b[39m asarray(a, dtype\u001b[38;5;241m=\u001b[39mdtype, order\u001b[38;5;241m=\u001b[39morder)\n\u001b[1;32m    487\u001b[0m \u001b[38;5;28;01mif\u001b[39;00m a\u001b[38;5;241m.\u001b[39mdtype\u001b[38;5;241m.\u001b[39mchar \u001b[38;5;129;01min\u001b[39;00m typecodes[\u001b[38;5;124m'\u001b[39m\u001b[38;5;124mAllFloat\u001b[39m\u001b[38;5;124m'\u001b[39m] \u001b[38;5;129;01mand\u001b[39;00m \u001b[38;5;129;01mnot\u001b[39;00m np\u001b[38;5;241m.\u001b[39misfinite(a)\u001b[38;5;241m.\u001b[39mall():\n\u001b[0;32m--> 488\u001b[0m     \u001b[38;5;28;01mraise\u001b[39;00m \u001b[38;5;167;01mValueError\u001b[39;00m(\n\u001b[1;32m    489\u001b[0m         \u001b[38;5;124m\"\u001b[39m\u001b[38;5;124marray must not contain infs or NaNs\u001b[39m\u001b[38;5;124m\"\u001b[39m)\n\u001b[1;32m    490\u001b[0m \u001b[38;5;28;01mreturn\u001b[39;00m a\n",
      "\u001b[0;31mValueError\u001b[0m: array must not contain infs or NaNs"
     ]
    },
    {
     "data": {
      "image/jpeg": "[encoded data removed]",
      "text/plain": [
       "<Figure size 720x720 with 1 Axes>"
      ]
     },
     "metadata": {
      "needs_background": "light"
     },
     "output_type": "display_data"
    }
   ],
   "source": [
    "# move the camera forward\n",
    "for i, step in enumerate(tqdm(np.linspace(0, 5, 100))):\n",
    "    eye_n = np.array([0, 0, eye[-1] - step * box_size])\n",
    "    target_n = np.array([0, 0, target[-1] - step * box_size])\n",
    "\n",
    "    fig, ax = plt.subplots(1, 1, figsize=(10, 10))\n",
    "    ax.set_xlim(-1, 1); ax.set_ylim(-1, 1)\n",
    "\n",
    "    # draw the box\n",
    "    xs, ys, zs = np.meshgrid(lim, lim, lim)\n",
    "    vs = np.vstack([_.ravel() for _ in (xs, ys, zs)])\n",
    "    vs = nvixc.shutter(vs, eye_n, target_n, fovy, near, far, M_model=M_model)\n",
    "    # nvixu.draw_box(vs, ax)\n",
    "    ax.scatter(vs[0], vs[1])\n",
    "\n",
    "    X = nvixc.shutter(points, eye_n, target_n, fovy, near, far, M_model=M_model)\n",
    "    X_p = nvixc.paint(X, [[-1, 1], [-1, 1]], pixels=(256, 256))\n",
    "    ax.imshow(X_p, extent=(-1, 1, -1, 1), cmap='inferno', norm=CosmicWebNorm(X_p),\n",
    "              interpolation='lanczos', interpolation_stage='rgba')\n",
    "    fig.savefig(f'tmp/{i}.png')\n",
    "    plt.close()"
   ]
  },
  {
   "cell_type": "code",
   "execution_count": null,
   "id": "a88d30b2-a7b7-4025-bba3-b84165a23c9d",
   "metadata": {},
   "outputs": [],
   "source": [
    "with imageio.get_writer('test_zoomin.gif', mode='I') as writer:\n",
    "    for i in range(30):\n",
    "        image = imageio.imread(f'tmp/{i}.png')\n",
    "        writer.append_data(image)"
   ]
  },
  {
   "cell_type": "code",
   "execution_count": null,
   "id": "4d34bcb0-f7d6-46a1-bb32-e8ef72161696",
   "metadata": {},
   "outputs": [],
   "source": []
  }
 ],
 "metadata": {
  "kernelspec": {
   "display_name": "Python 3 (ipykernel)",
   "language": "python",
   "name": "python3"
  },
  "language_info": {
   "codemirror_mode": {
    "name": "ipython",
    "version": 3
   },
   "file_extension": ".py",
   "mimetype": "text/x-python",
   "name": "python",
   "nbconvert_exporter": "python",
   "pygments_lexer": "ipython3",
   "version": "3.9.12"
  }
 },
 "nbformat": 4,
 "nbformat_minor": 5
}
