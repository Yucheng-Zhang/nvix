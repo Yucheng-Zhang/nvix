{
 "cells": [
  {
   "cell_type": "code",
   "execution_count": 1,
   "id": "ba0c742d-526c-4e94-b3cc-f0159eae01a3",
   "metadata": {},
   "outputs": [],
   "source": [
    "%load_ext autoreload\n",
    "%autoreload 2"
   ]
  },
  {
   "cell_type": "code",
   "execution_count": 2,
   "id": "13b8ac2b-68fb-4a88-8cff-922817b58135",
   "metadata": {},
   "outputs": [],
   "source": [
    "import numpy as np\n",
    "import jax.numpy as jnp\n",
    "from tqdm.notebook import tqdm\n",
    "\n",
    "import imageio\n",
    "\n",
    "import jax\n",
    "import matplotlib.pyplot as plt\n",
    "\n",
    "from pmwd import (\n",
    "    Configuration,\n",
    "    Cosmology, SimpleLCDM,\n",
    "    boltzmann,\n",
    "    white_noise, linear_modes,\n",
    "    lpt,\n",
    "    nbody,\n",
    "    scatter,\n",
    ")\n",
    "from pmwd.particles import ptcl_pos\n",
    "from pmwd.vis_util import plt_2d, CosmicWebNorm\n",
    "from pmwd.nbody import nbody_init, nbody_step\n",
    "\n",
    "import nvix.camera as nvixc\n",
    "import nvix.utils as nvixu\n",
    "\n",
    "from gaepsi2.painter import paint"
   ]
  },
  {
   "cell_type": "code",
   "execution_count": 3,
   "id": "716bb00a-9637-45a5-9f59-1a653cbb12f5",
   "metadata": {},
   "outputs": [],
   "source": [
    "ptcl_spacing = 4.\n",
    "ptcl_grid_shape = (128,) * 3\n",
    "\n",
    "# setup\n",
    "conf = Configuration(ptcl_spacing, ptcl_grid_shape, mesh_shape=2,\n",
    "                     a_nbody_maxstep=1/128)\n",
    "a_nbody = conf.a_nbody\n",
    "cosmo = SimpleLCDM(conf)\n",
    "seed = 0\n",
    "modes = white_noise(seed, conf)\n",
    "\n",
    "# IC\n",
    "cosmo = boltzmann(cosmo, conf)\n",
    "modes = linear_modes(modes, cosmo, conf)\n",
    "ptcl, obsvbl = lpt(modes, cosmo, conf)"
   ]
  },
  {
   "cell_type": "code",
   "execution_count": 4,
   "id": "5a2dd5bd-7a5f-476a-ba0d-d455f2486bb7",
   "metadata": {},
   "outputs": [],
   "source": [
    "# range of the cubic box, assumed to be the same for x, y, z\n",
    "lim = np.array([0, ptcl_spacing * ptcl_grid_shape[0]])\n",
    "box_size = lim[1] - lim[0]\n",
    "\n",
    "# the model matrix to shift the box to the origin of the world space\n",
    "M_model = np.eye(4)\n",
    "M_model[:3, 3] = np.full(3, -lim.mean())\n",
    "\n",
    "# the camera is at postive z and facing the origin of the world space\n",
    "eye = np.array([0, 0, box_size*5])\n",
    "target = np.array([0, 0, 0])\n",
    "\n",
    "# field of view angle\n",
    "fovy = np.arctan2(box_size/2, eye[-1]) * 1.8 * 2\n",
    "\n",
    "# distance of camera to near and far planes in world space\n",
    "# set as the closer and further z planes of the cube\n",
    "near = eye[-1] - box_size\n",
    "far = eye[-1] + box_size * 2\n",
    "\n",
    "# window size\n",
    "window = (512, 512)\n",
    "\n",
    "def project(ptcl, angle, res, a):\n",
    "    rot = nvixu.rotation('y', angle * 2 * np.pi)\n",
    "    eye_n = rot @ eye\n",
    "\n",
    "    # cube box vertices\n",
    "    xs, ys, zs = np.meshgrid(lim, lim, lim)\n",
    "    vs = np.vstack([_.ravel() for _ in (xs, ys, zs)])\n",
    "    vs = nvixc.shutter(vs, eye_n, target, fovy, near, far, M_model=M_model, window=window)\n",
    "\n",
    "    X = ptcl_pos(ptcl, conf).T\n",
    "    X = nvixc.shutter(X, eye_n, target, fovy, near, far, M_model=M_model, window=window)\n",
    "    sml = 3.\n",
    "    X = paint(np.array(X.T), np.full(X.shape[1], sml), np.ones(X.shape[1]), window)[0].T\n",
    "\n",
    "    res.append([a, vs, X])"
   ]
  },
  {
   "cell_type": "code",
   "execution_count": 5,
   "id": "6f64de61-9990-4fa0-a111-aaa79c4adfcd",
   "metadata": {},
   "outputs": [
    {
     "data": {
      "application/vnd.jupyter.widget-view+json": {
       "model_id": "5949739c9cdb4c60954ceb9b0aefd3a1",
       "version_major": 2,
       "version_minor": 0
      },
      "text/plain": [
       "  0%|          | 0/126 [00:00<?, ?it/s]"
      ]
     },
     "metadata": {},
     "output_type": "display_data"
    }
   ],
   "source": [
    "# forward simulation\n",
    "fw_res = []\n",
    "\n",
    "ptcl, obsvbl = nbody_init(a_nbody[0], ptcl, obsvbl, cosmo, conf)\n",
    "project(ptcl, 0, fw_res, a_nbody[0])\n",
    "\n",
    "for i, (a_prev, a_next) in enumerate(tqdm(zip(a_nbody[:-1], a_nbody[1:]), total=len(a_nbody)-1)):\n",
    "    ptcl, obsvbl = nbody_step(a_prev, a_next, ptcl, obsvbl, cosmo, conf)\n",
    "    project(ptcl, (i + 1) / (len(a_nbody) - 1), fw_res, a_next)"
   ]
  },
  {
   "cell_type": "code",
   "execution_count": 6,
   "id": "c2e994e5-e833-4c39-b911-83adc32e4b06",
   "metadata": {},
   "outputs": [
    {
     "data": {
      "application/vnd.jupyter.widget-view+json": {
       "model_id": "06c94c1c3383464d9cc3e8bcc095563c",
       "version_major": 2,
       "version_minor": 0
      },
      "text/plain": [
       "  0%|          | 0/126 [00:00<?, ?it/s]"
      ]
     },
     "metadata": {},
     "output_type": "display_data"
    }
   ],
   "source": [
    "# reverse simulation\n",
    "bw_res = []\n",
    "\n",
    "a_nbody_r = a_nbody[::-1]\n",
    "\n",
    "for i, (a_prev, a_next) in enumerate(tqdm(zip(a_nbody_r[:-1], a_nbody_r[1:]), total=len(a_nbody_r)-1)):\n",
    "    ptcl, obsvbl = nbody_step(a_prev, a_next, ptcl, obsvbl, cosmo, conf)\n",
    "    project(ptcl, (i + 1) / (len(a_nbody) - 1), bw_res, a_next)"
   ]
  },
  {
   "cell_type": "code",
   "execution_count": 7,
   "id": "ebce0d9b-5ce6-410a-9ba6-d1e58bd5a3dd",
   "metadata": {},
   "outputs": [
    {
     "name": "stdout",
     "output_type": "stream",
     "text": [
      "121.267365\n"
     ]
    }
   ],
   "source": [
    "# determine vmax\n",
    "vmax = 0\n",
    "for res in fw_res + bw_res:\n",
    "    vmax = max(vmax, res[2].max())\n",
    "print(vmax)"
   ]
  },
  {
   "cell_type": "code",
   "execution_count": 18,
   "id": "bc39c372-e6a7-4a7d-b27c-d4ca83d4f685",
   "metadata": {},
   "outputs": [],
   "source": [
    "def plot_image(a, vs, X, title, prefix, i):\n",
    "    fig, ax = plt.subplots(1, 1, figsize=(10, 10))\n",
    "    ax.set_xlim(0, window[0]); ax.set_ylim(0, window[1])\n",
    "    ax.set_title(f'{title}, redshift : {1/a-1:g}')\n",
    "\n",
    "    nvixu.draw_box(vs, ax)\n",
    "    ax.imshow(X, extent=(0, window[0], 0, window[1]), cmap='inferno', vmin=0, vmax=vmax,\n",
    "              interpolation='lanczos', interpolation_stage='rgba')\n",
    "    fig.savefig(f'tmp/{prefix}_{i}.png', dpi=100, bbox_inches='tight')\n",
    "    plt.close()"
   ]
  },
  {
   "cell_type": "code",
   "execution_count": 19,
   "id": "475dc139-6138-418c-ae7e-082bd9bacfb6",
   "metadata": {},
   "outputs": [
    {
     "data": {
      "application/vnd.jupyter.widget-view+json": {
       "model_id": "ffc6e8e3da9c419fb89e7f238f59595c",
       "version_major": 2,
       "version_minor": 0
      },
      "text/plain": [
       "  0%|          | 0/127 [00:00<?, ?it/s]"
      ]
     },
     "metadata": {},
     "output_type": "display_data"
    }
   ],
   "source": [
    "for i, res in enumerate(tqdm(fw_res)):\n",
    "    plot_image(*res, 'time forward evolution', 'fw', i)"
   ]
  },
  {
   "cell_type": "code",
   "execution_count": 20,
   "id": "a5c976d0-cdac-4e8a-9678-7753855e8195",
   "metadata": {},
   "outputs": [
    {
     "data": {
      "application/vnd.jupyter.widget-view+json": {
       "model_id": "2ef2a4356ce84bdfb9233fcae690ad70",
       "version_major": 2,
       "version_minor": 0
      },
      "text/plain": [
       "  0%|          | 0/126 [00:00<?, ?it/s]"
      ]
     },
     "metadata": {},
     "output_type": "display_data"
    }
   ],
   "source": [
    "for i, res in enumerate(tqdm(bw_res)):\n",
    "    plot_image(*res, 'time reversal evolution', 'bw', i)"
   ]
  },
  {
   "cell_type": "code",
   "execution_count": 21,
   "id": "d01012cd-887f-475c-9d28-290e8ccc401f",
   "metadata": {},
   "outputs": [
    {
     "data": {
      "application/vnd.jupyter.widget-view+json": {
       "model_id": "56b411d29c624b099ecbc7ca290dd201",
       "version_major": 2,
       "version_minor": 0
      },
      "text/plain": [
       "  0%|          | 0/127 [00:00<?, ?it/s]"
      ]
     },
     "metadata": {},
     "output_type": "display_data"
    },
    {
     "name": "stderr",
     "output_type": "stream",
     "text": [
      "WARNING:imageio_ffmpeg:IMAGEIO FFMPEG_WRITER WARNING: input image is not divisible by macro_block_size=16, resizing from (811, 819) to (816, 832) to ensure video compatibility with most codecs and players. To prevent resizing, make your input image divisible by the macro_block_size or set the macro_block_size to 1 (risking incompatibility).\n",
      "[swscaler @ 0x7f9cf8048000] Warning: data is not aligned! This can lead to a speed loss\n"
     ]
    },
    {
     "data": {
      "application/vnd.jupyter.widget-view+json": {
       "model_id": "82477ec809e14643a8f5ad146d9d0bb7",
       "version_major": 2,
       "version_minor": 0
      },
      "text/plain": [
       "  0%|          | 0/126 [00:00<?, ?it/s]"
      ]
     },
     "metadata": {},
     "output_type": "display_data"
    }
   ],
   "source": [
    "writer = imageio.get_writer('time_evo.mp4', fps=10)\n",
    "for i in tqdm(range(127)):\n",
    "    writer.append_data(imageio.imread(f'tmp/fw_{i}.png'))\n",
    "for i in tqdm(range(126)):\n",
    "    writer.append_data(imageio.imread(f'tmp/bw_{i}.png'))\n",
    "writer.close()"
   ]
  },
  {
   "cell_type": "code",
   "execution_count": null,
   "id": "f830c76c-bb34-4f61-9f77-7c77372693cc",
   "metadata": {},
   "outputs": [],
   "source": []
  }
 ],
 "metadata": {
  "kernelspec": {
   "display_name": "Python 3 (ipykernel)",
   "language": "python",
   "name": "python3"
  },
  "language_info": {
   "codemirror_mode": {
    "name": "ipython",
    "version": 3
   },
   "file_extension": ".py",
   "mimetype": "text/x-python",
   "name": "python",
   "nbconvert_exporter": "python",
   "pygments_lexer": "ipython3",
   "version": "3.9.12"
  }
 },
 "nbformat": 4,
 "nbformat_minor": 5
}
