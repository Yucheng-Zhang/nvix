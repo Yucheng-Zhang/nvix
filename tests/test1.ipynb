{
 "cells": [
  {
   "cell_type": "code",
   "execution_count": 1,
   "id": "1451ff4a-8d43-4344-a07d-5a554b2c1f8d",
   "metadata": {},
   "outputs": [],
   "source": [
    "%load_ext autoreload\n",
    "%autoreload 2"
   ]
  },
  {
   "cell_type": "code",
   "execution_count": 2,
   "id": "f652683c-10d3-4cc0-9caf-2b8c2a9d2ee0",
   "metadata": {},
   "outputs": [],
   "source": [
    "import numpy as np\n",
    "import matplotlib.pyplot as plt\n",
    "\n",
    "import nvix.camera as nvixc"
   ]
  },
  {
   "cell_type": "markdown",
   "id": "0a70db85-59e4-425f-8f94-9fd66feb645d",
   "metadata": {},
   "source": [
    "---"
   ]
  },
  {
   "cell_type": "code",
   "execution_count": 16,
   "id": "575abba4-e434-4e1f-8a0d-3e7aa76de387",
   "metadata": {},
   "outputs": [],
   "source": [
    "# test view\n",
    "eye = np.array([1, 1, 1])\n",
    "target = np.array([0, 0, 0])\n",
    "up = np.array([0, 1, 0])\n",
    "M_view = nvixc.modelview(eye, target, up)"
   ]
  },
  {
   "cell_type": "code",
   "execution_count": 17,
   "id": "15ec4e1f-134c-4b13-b680-27d56637ce6c",
   "metadata": {},
   "outputs": [
    {
     "data": {
      "text/plain": [
       "DeviceArray([0., 0., 0., 1.], dtype=float32)"
      ]
     },
     "execution_count": 17,
     "metadata": {},
     "output_type": "execute_result"
    }
   ],
   "source": [
    "M_view @ np.array([1, 1, 1, 1]).T"
   ]
  },
  {
   "cell_type": "code",
   "execution_count": 18,
   "id": "f634e209-427d-40a5-9cac-4583b0f9e2d1",
   "metadata": {},
   "outputs": [
    {
     "data": {
      "text/plain": [
       "DeviceArray([ 0.       ,  0.       , -1.7320508,  1.       ], dtype=float32)"
      ]
     },
     "execution_count": 18,
     "metadata": {},
     "output_type": "execute_result"
    }
   ],
   "source": [
    "M_view @ np.array([0, 0, 0, 1]).T"
   ]
  },
  {
   "cell_type": "code",
   "execution_count": null,
   "id": "eb96a4d4-4f11-4c96-b7e5-92fadd0b98da",
   "metadata": {},
   "outputs": [],
   "source": []
  }
 ],
 "metadata": {
  "kernelspec": {
   "display_name": "Python 3 (ipykernel)",
   "language": "python",
   "name": "python3"
  },
  "language_info": {
   "codemirror_mode": {
    "name": "ipython",
    "version": 3
   },
   "file_extension": ".py",
   "mimetype": "text/x-python",
   "name": "python",
   "nbconvert_exporter": "python",
   "pygments_lexer": "ipython3",
   "version": "3.9.12"
  }
 },
 "nbformat": 4,
 "nbformat_minor": 5
}
